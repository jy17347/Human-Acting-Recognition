{
 "cells": [
  {
   "cell_type": "code",
   "execution_count": 19,
   "metadata": {},
   "outputs": [],
   "source": [
    "user_hei = int(input(\"키\"))\n",
    "user_wei = int(input(\"몸무게\"))\n",
    "user_sex = input(\"성별\")\n",
    "user_age = int(input(\"나이\"))"
   ]
  },
  {
   "cell_type": "code",
   "execution_count": 22,
   "metadata": {},
   "outputs": [],
   "source": [
    "if user_sex == \"남\":\n",
    "    user_sex = 1\n",
    "else: sex = 2\n",
    "user_bmi = user_wei/user_hei**2*10000"
   ]
  },
  {
   "cell_type": "code",
   "execution_count": 24,
   "metadata": {},
   "outputs": [],
   "source": [
    "user_input = [user_hei, user_wei, user_sex, user_age,user_bmi]"
   ]
  },
  {
   "cell_type": "code",
   "execution_count": null,
   "metadata": {},
   "outputs": [],
   "source": []
  }
 ],
 "metadata": {
  "interpreter": {
   "hash": "6ee9161a639cd80a91b3c69472b1eb8c1ad2bd087e5e770e251c163e0ade2771"
  },
  "kernelspec": {
   "display_name": "Python 3.9.7 ('kwix')",
   "language": "python",
   "name": "python3"
  },
  "language_info": {
   "codemirror_mode": {
    "name": "ipython",
    "version": 3
   },
   "file_extension": ".py",
   "mimetype": "text/x-python",
   "name": "python",
   "nbconvert_exporter": "python",
   "pygments_lexer": "ipython3",
   "version": "3.9.7"
  },
  "orig_nbformat": 4
 },
 "nbformat": 4,
 "nbformat_minor": 2
}
