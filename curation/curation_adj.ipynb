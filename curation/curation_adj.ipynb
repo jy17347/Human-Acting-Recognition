{
 "cells": [
  {
   "cell_type": "code",
   "execution_count": 118,
   "metadata": {},
   "outputs": [],
   "source": [
    "from surprise import SVD\n",
    "from surprise import Reader, Dataset\n",
    "from surprise.model_selection import cross_validate\n",
    "import numpy as np\n",
    "import pandas as pd\n",
    "import json\n",
    "import os\n"
   ]
  },
  {
   "cell_type": "code",
   "execution_count": 119,
   "metadata": {},
   "outputs": [],
   "source": [
    "data_path = 'C://users/wooyong/desktop'\n",
    "data_file = os.listdir(data_path)[1]\n",
    "dataset_path = data_path + '/' + data_file\n",
    "data = pd.read_csv(dataset_path)\n",
    "data_np = data.to_numpy()"
   ]
  },
  {
   "cell_type": "code",
   "execution_count": 120,
   "metadata": {},
   "outputs": [
    {
     "name": "stdout",
     "output_type": "stream",
     "text": [
      "13\n",
      "[ 13 188  85   1  10   1   1   1   0   0   0   0   0   0]\n"
     ]
    }
   ],
   "source": [
    "my_trait = np.array([188,85,1,10])\n",
    "best_match = 300\n",
    "best_match_id = 0\n",
    "\n",
    "\n",
    "for id, user_vector in enumerate(data_np):\n",
    "    similarity = user_vector[1:5] - my_trait\n",
    "    similarity = abs(similarity).sum()\n",
    "    if similarity < best_match:\n",
    "        best_match_id = user_vector[0]\n",
    "        best_match = similarity\n",
    "print(best_match_id)\n",
    "print(data_np[(best_match_id-1)])"
   ]
  },
  {
   "cell_type": "code",
   "execution_count": 121,
   "metadata": {},
   "outputs": [
    {
     "name": "stdout",
     "output_type": "stream",
     "text": [
      "하이니\n",
      "점프스쿼트\n",
      "백런지\n"
     ]
    }
   ],
   "source": [
    "for i in range(5,14):\n",
    "    if data_np[(best_match_id-1)][i] == 1:\n",
    "        print(data.columns[i])"
   ]
  }
 ],
 "metadata": {
  "interpreter": {
   "hash": "5421969afddc5fcc759fda144506d3c85b9a2e9aaf38c4ed3f1bb2eda03bc0ff"
  },
  "kernelspec": {
   "display_name": "Python 3.9.7 64-bit ('test': conda)",
   "language": "python",
   "name": "python3"
  },
  "language_info": {
   "codemirror_mode": {
    "name": "ipython",
    "version": 3
   },
   "file_extension": ".py",
   "mimetype": "text/x-python",
   "name": "python",
   "nbconvert_exporter": "python",
   "pygments_lexer": "ipython3",
   "version": "3.9.7"
  },
  "orig_nbformat": 4
 },
 "nbformat": 4,
 "nbformat_minor": 2
}
